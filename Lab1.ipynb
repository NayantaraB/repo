{
  "nbformat": 4,
  "nbformat_minor": 0,
  "metadata": {
    "colab": {
      "name": "Lab1.ipynb",
      "provenance": [],
      "authorship_tag": "ABX9TyPo8Fo/C+mOgiYauPY8W3HW",
      "include_colab_link": true
    },
    "kernelspec": {
      "name": "python3",
      "display_name": "Python 3"
    }
  },
  "cells": [
    {
      "cell_type": "markdown",
      "metadata": {
        "id": "view-in-github",
        "colab_type": "text"
      },
      "source": [
        "<a href=\"https://colab.research.google.com/github/NayantaraB/repo/blob/master/Lab1.ipynb\" target=\"_parent\"><img src=\"https://colab.research.google.com/assets/colab-badge.svg\" alt=\"Open In Colab\"/></a>"
      ]
    },
    {
      "cell_type": "code",
      "metadata": {
        "id": "NEIWbAoCT6gy"
      },
      "source": [
        ""
      ],
      "execution_count": null,
      "outputs": []
    },
    {
      "cell_type": "code",
      "metadata": {
        "colab": {
          "base_uri": "https://localhost:8080/"
        },
        "id": "J-s1Y-5zUC5J",
        "outputId": "b419f0b2-f1ab-4f1a-f620-23449471a696"
      },
      "source": [
        "'''\r\n",
        "Author: Nayantara Biswas\r\n",
        "Created: 26 February 2021\r\n",
        "Assignment: Lab 1\r\n",
        "'''\r\n",
        "\r\n",
        "# Create variables needed to calculate area\r\n",
        "length = 50\r\n",
        "width = 20\r\n",
        "\r\n",
        "# Convert length and width from feet to inches\r\n",
        "plot_length = 50*12\r\n",
        "plot_width= 20*12\r\n",
        "\r\n",
        "#Calculate rainfall (in cubic inches)\r\n",
        "area= (plot_length) * (plot_width)\r\n",
        "rainfall_inches = (area) * 1\r\n",
        "\r\n",
        "# Convert cubic inches to gallons\r\n",
        "runoff_gallons = rainfall_inches * 0.004329\r\n",
        "\r\n",
        "# These lines outputs the results\r\n",
        "print(\"plot_length is \",plot_length)\r\n",
        "print(\"plot_width is: \",plot_width)\r\n",
        "print(\"rainfall_inches is:\", rainfall_inches)\r\n",
        "print(\"runoff_gallons is:\", runoff_gallons)"
      ],
      "execution_count": 1,
      "outputs": [
        {
          "output_type": "stream",
          "text": [
            "plot_length is  600\n",
            "plot_width is:  240\n",
            "rainfall_inches is: 144000\n",
            "runoff_gallons is: 623.3760000000001\n"
          ],
          "name": "stdout"
        }
      ]
    }
  ]
}